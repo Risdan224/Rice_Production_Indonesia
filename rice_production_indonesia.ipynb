{
 "cells": [
  {
   "cell_type": "markdown",
   "metadata": {},
   "source": [
    "# Data Analysis : Rice Production in Indonesia 2020-2022\n",
    "## By: Risdan Kristori"
   ]
  },
  {
   "cell_type": "markdown",
   "metadata": {},
   "source": [
    "### Import Data "
   ]
  },
  {
   "cell_type": "code",
   "execution_count": 327,
   "metadata": {
    "scrolled": false
   },
   "outputs": [
    {
     "data": {
      "text/html": [
       "<div>\n",
       "<style scoped>\n",
       "    .dataframe tbody tr th:only-of-type {\n",
       "        vertical-align: middle;\n",
       "    }\n",
       "\n",
       "    .dataframe tbody tr th {\n",
       "        vertical-align: top;\n",
       "    }\n",
       "\n",
       "    .dataframe thead th {\n",
       "        text-align: right;\n",
       "    }\n",
       "</style>\n",
       "<table border=\"1\" class=\"dataframe\">\n",
       "  <thead>\n",
       "    <tr style=\"text-align: right;\">\n",
       "      <th></th>\n",
       "      <th>Provinsi</th>\n",
       "      <th>Year</th>\n",
       "      <th>Yield.Areal(ha)</th>\n",
       "      <th>Productivity(kw/ha)</th>\n",
       "      <th>Production.(ton)</th>\n",
       "    </tr>\n",
       "  </thead>\n",
       "  <tbody>\n",
       "    <tr>\n",
       "      <th>0</th>\n",
       "      <td>ACEH</td>\n",
       "      <td>2020</td>\n",
       "      <td>317869.41</td>\n",
       "      <td>55.28</td>\n",
       "      <td>1757313.07</td>\n",
       "    </tr>\n",
       "    <tr>\n",
       "      <th>1</th>\n",
       "      <td>SUMATERA UTARA</td>\n",
       "      <td>2020</td>\n",
       "      <td>388591.22</td>\n",
       "      <td>52.51</td>\n",
       "      <td>2040500.19</td>\n",
       "    </tr>\n",
       "    <tr>\n",
       "      <th>2</th>\n",
       "      <td>SUMATERA BARAT</td>\n",
       "      <td>2020</td>\n",
       "      <td>295664.47</td>\n",
       "      <td>46.92</td>\n",
       "      <td>1387269.29</td>\n",
       "    </tr>\n",
       "    <tr>\n",
       "      <th>3</th>\n",
       "      <td>RIAU</td>\n",
       "      <td>2020</td>\n",
       "      <td>64733.13</td>\n",
       "      <td>37.64</td>\n",
       "      <td>243685.04</td>\n",
       "    </tr>\n",
       "    <tr>\n",
       "      <th>4</th>\n",
       "      <td>JAMBI</td>\n",
       "      <td>2020</td>\n",
       "      <td>84772.93</td>\n",
       "      <td>45.58</td>\n",
       "      <td>386413.49</td>\n",
       "    </tr>\n",
       "  </tbody>\n",
       "</table>\n",
       "</div>"
      ],
      "text/plain": [
       "         Provinsi  Year  Yield.Areal(ha)  Productivity(kw/ha)  \\\n",
       "0            ACEH  2020        317869.41                55.28   \n",
       "1  SUMATERA UTARA  2020        388591.22                52.51   \n",
       "2  SUMATERA BARAT  2020        295664.47                46.92   \n",
       "3            RIAU  2020         64733.13                37.64   \n",
       "4           JAMBI  2020         84772.93                45.58   \n",
       "\n",
       "   Production.(ton)  \n",
       "0        1757313.07  \n",
       "1        2040500.19  \n",
       "2        1387269.29  \n",
       "3         243685.04  \n",
       "4         386413.49  "
      ]
     },
     "execution_count": 327,
     "metadata": {},
     "output_type": "execute_result"
    }
   ],
   "source": [
    "import pandas as pd\n",
    "df = pd.read_csv(\"Rice Production Indonesia 2020-2022.csv\")\n",
    "df.head(5)"
   ]
  },
  {
   "cell_type": "code",
   "execution_count": 328,
   "metadata": {},
   "outputs": [
    {
     "name": "stdout",
     "output_type": "stream",
     "text": [
      "<class 'pandas.core.frame.DataFrame'>\n",
      "RangeIndex: 102 entries, 0 to 101\n",
      "Data columns (total 5 columns):\n",
      " #   Column               Non-Null Count  Dtype  \n",
      "---  ------               --------------  -----  \n",
      " 0   Provinsi             102 non-null    object \n",
      " 1   Year                 102 non-null    int64  \n",
      " 2   Yield.Areal(ha)      102 non-null    float64\n",
      " 3   Productivity(kw/ha)  102 non-null    float64\n",
      " 4   Production.(ton)     102 non-null    float64\n",
      "dtypes: float64(3), int64(1), object(1)\n",
      "memory usage: 4.1+ KB\n"
     ]
    }
   ],
   "source": [
    "df.info()"
   ]
  },
  {
   "cell_type": "markdown",
   "metadata": {},
   "source": [
    "<h3>Data fields:</h3>\n",
    "\n",
    "- Provinsi >> Provinces in Indonesia\n",
    "- Year >> 2020 to 2022\n",
    "- Yield.Areal(ha) >>> land use for Rice\n",
    "- Productivity(kw/ha) >>> rice yield in every year 2020 to 2022 in each province\n",
    "- Production.(ton) >>> rice yields in each province"
   ]
  },
  {
   "cell_type": "code",
   "execution_count": 329,
   "metadata": {
    "scrolled": false
   },
   "outputs": [
    {
     "data": {
      "text/html": [
       "<div>\n",
       "<style scoped>\n",
       "    .dataframe tbody tr th:only-of-type {\n",
       "        vertical-align: middle;\n",
       "    }\n",
       "\n",
       "    .dataframe tbody tr th {\n",
       "        vertical-align: top;\n",
       "    }\n",
       "\n",
       "    .dataframe thead th {\n",
       "        text-align: right;\n",
       "    }\n",
       "</style>\n",
       "<table border=\"1\" class=\"dataframe\">\n",
       "  <thead>\n",
       "    <tr style=\"text-align: right;\">\n",
       "      <th></th>\n",
       "      <th>Count</th>\n",
       "      <th>Mean</th>\n",
       "      <th>Std</th>\n",
       "      <th>Min</th>\n",
       "      <th>25%</th>\n",
       "      <th>50%</th>\n",
       "      <th>75%</th>\n",
       "      <th>Max</th>\n",
       "    </tr>\n",
       "  </thead>\n",
       "  <tbody>\n",
       "    <tr>\n",
       "      <th>Yield.Areal(ha)</th>\n",
       "      <td>102.0</td>\n",
       "      <td>309036.75</td>\n",
       "      <td>472722.86</td>\n",
       "      <td>179.48</td>\n",
       "      <td>51472.41</td>\n",
       "      <td>111623.90</td>\n",
       "      <td>296709.90</td>\n",
       "      <td>1754380.30</td>\n",
       "    </tr>\n",
       "    <tr>\n",
       "      <th>Productivity(kw/ha)</th>\n",
       "      <td>102.0</td>\n",
       "      <td>45.26</td>\n",
       "      <td>8.38</td>\n",
       "      <td>28.24</td>\n",
       "      <td>39.08</td>\n",
       "      <td>46.52</td>\n",
       "      <td>51.66</td>\n",
       "      <td>60.59</td>\n",
       "    </tr>\n",
       "    <tr>\n",
       "      <th>Production.(ton)</th>\n",
       "      <td>102.0</td>\n",
       "      <td>1606014.43</td>\n",
       "      <td>2667462.59</td>\n",
       "      <td>506.91</td>\n",
       "      <td>228941.59</td>\n",
       "      <td>531098.76</td>\n",
       "      <td>1579799.25</td>\n",
       "      <td>9944538.26</td>\n",
       "    </tr>\n",
       "  </tbody>\n",
       "</table>\n",
       "</div>"
      ],
      "text/plain": [
       "                     Count        Mean         Std     Min        25%  \\\n",
       "Yield.Areal(ha)      102.0   309036.75   472722.86  179.48   51472.41   \n",
       "Productivity(kw/ha)  102.0       45.26        8.38   28.24      39.08   \n",
       "Production.(ton)     102.0  1606014.43  2667462.59  506.91  228941.59   \n",
       "\n",
       "                           50%         75%         Max  \n",
       "Yield.Areal(ha)      111623.90   296709.90  1754380.30  \n",
       "Productivity(kw/ha)      46.52       51.66       60.59  \n",
       "Production.(ton)     531098.76  1579799.25  9944538.26  "
      ]
     },
     "execution_count": 329,
     "metadata": {},
     "output_type": "execute_result"
    }
   ],
   "source": [
    "numeric_descr = (\n",
    "    df.drop(['Year'], axis=1)\n",
    "    .describe(percentiles=[0.25, 0.50, 0.75])\n",
    "    .T.rename(columns=str.title)\n",
    ")\n",
    "\n",
    "round(numeric_descr,2)"
   ]
  },
  {
   "cell_type": "code",
   "execution_count": 330,
   "metadata": {},
   "outputs": [
    {
     "data": {
      "text/html": [
       "<div>\n",
       "<style scoped>\n",
       "    .dataframe tbody tr th:only-of-type {\n",
       "        vertical-align: middle;\n",
       "    }\n",
       "\n",
       "    .dataframe tbody tr th {\n",
       "        vertical-align: top;\n",
       "    }\n",
       "\n",
       "    .dataframe thead th {\n",
       "        text-align: right;\n",
       "    }\n",
       "</style>\n",
       "<table border=\"1\" class=\"dataframe\">\n",
       "  <thead>\n",
       "    <tr style=\"text-align: right;\">\n",
       "      <th></th>\n",
       "      <th>Provinsi</th>\n",
       "    </tr>\n",
       "  </thead>\n",
       "  <tbody>\n",
       "    <tr>\n",
       "      <th>count</th>\n",
       "      <td>102</td>\n",
       "    </tr>\n",
       "    <tr>\n",
       "      <th>unique</th>\n",
       "      <td>34</td>\n",
       "    </tr>\n",
       "    <tr>\n",
       "      <th>top</th>\n",
       "      <td>ACEH</td>\n",
       "    </tr>\n",
       "    <tr>\n",
       "      <th>freq</th>\n",
       "      <td>3</td>\n",
       "    </tr>\n",
       "  </tbody>\n",
       "</table>\n",
       "</div>"
      ],
      "text/plain": [
       "       Provinsi\n",
       "count       102\n",
       "unique       34\n",
       "top        ACEH\n",
       "freq          3"
      ]
     },
     "execution_count": 330,
     "metadata": {},
     "output_type": "execute_result"
    }
   ],
   "source": [
    "df.describe(include='object')"
   ]
  },
  {
   "cell_type": "markdown",
   "metadata": {},
   "source": [
    "EDA Idea:\n",
    "- Production year by year for every province\n",
    "- Production most increase and decrease province\n",
    "- "
   ]
  },
  {
   "cell_type": "code",
   "execution_count": 331,
   "metadata": {},
   "outputs": [
    {
     "data": {
      "text/plain": [
       "<matplotlib.axes._subplots.AxesSubplot at 0x1c92fa9a348>"
      ]
     },
     "execution_count": 331,
     "metadata": {},
     "output_type": "execute_result"
    },
    {
     "data": {
      "image/png": "[encoded data removed]",
      "text/plain": [
       "<Figure size 504x288 with 1 Axes>"
      ]
     },
     "metadata": {
      "needs_background": "light"
     },
     "output_type": "display_data"
    }
   ],
   "source": [
    "df[\"Yield.Areal(ha)\"].plot.hist(bins=20, figsize=(7,4), title=\"Yield Area Distribution\")"
   ]
  },
  {
   "cell_type": "code",
   "execution_count": 332,
   "metadata": {},
   "outputs": [
    {
     "data": {
      "text/plain": [
       "<matplotlib.axes._subplots.AxesSubplot at 0x1c9312fa888>"
      ]
     },
     "execution_count": 332,
     "metadata": {},
     "output_type": "execute_result"
    },
    {
     "data": {
      "image/png": "[encoded data removed]",
      "text/plain": [
       "<Figure size 504x288 with 1 Axes>"
      ]
     },
     "metadata": {
      "needs_background": "light"
     },
     "output_type": "display_data"
    }
   ],
   "source": [
    "df[\"Productivity(kw/ha)\"].plot.hist(bins=25, figsize=(7,4), title=\"Productivity Distribution\")"
   ]
  },
  {
   "cell_type": "code",
   "execution_count": 333,
   "metadata": {},
   "outputs": [
    {
     "data": {
      "text/plain": [
       "<matplotlib.axes._subplots.AxesSubplot at 0x1c9313aa108>"
      ]
     },
     "execution_count": 333,
     "metadata": {},
     "output_type": "execute_result"
    },
    {
     "data": {
      "image/png": "[encoded data removed]",
      "text/plain": [
       "<Figure size 504x288 with 1 Axes>"
      ]
     },
     "metadata": {
      "needs_background": "light"
     },
     "output_type": "display_data"
    }
   ],
   "source": [
    "df[\"Production.(ton)\"].plot.hist(bins=20, figsize=(7,4), title=\"Production Distribution\")"
   ]
  },
  {
   "cell_type": "code",
   "execution_count": 334,
   "metadata": {},
   "outputs": [
    {
     "data": {
      "text/html": [
       "<div>\n",
       "<style scoped>\n",
       "    .dataframe tbody tr th:only-of-type {\n",
       "        vertical-align: middle;\n",
       "    }\n",
       "\n",
       "    .dataframe tbody tr th {\n",
       "        vertical-align: top;\n",
       "    }\n",
       "\n",
       "    .dataframe thead th {\n",
       "        text-align: right;\n",
       "    }\n",
       "</style>\n",
       "<table border=\"1\" class=\"dataframe\">\n",
       "  <thead>\n",
       "    <tr style=\"text-align: right;\">\n",
       "      <th></th>\n",
       "      <th>Provinsi</th>\n",
       "      <th>Year</th>\n",
       "      <th>Yield.Areal(ha)</th>\n",
       "      <th>Productivity(kw/ha)</th>\n",
       "      <th>Production.(ton)</th>\n",
       "    </tr>\n",
       "  </thead>\n",
       "  <tbody>\n",
       "    <tr>\n",
       "      <th>11</th>\n",
       "      <td>JAWA BARAT</td>\n",
       "      <td>2020</td>\n",
       "      <td>1586888.63</td>\n",
       "      <td>56.82</td>\n",
       "      <td>9016772.58</td>\n",
       "    </tr>\n",
       "    <tr>\n",
       "      <th>12</th>\n",
       "      <td>JAWA TENGAH</td>\n",
       "      <td>2020</td>\n",
       "      <td>1666931.49</td>\n",
       "      <td>56.93</td>\n",
       "      <td>9489164.62</td>\n",
       "    </tr>\n",
       "    <tr>\n",
       "      <th>14</th>\n",
       "      <td>JAWA TIMUR</td>\n",
       "      <td>2020</td>\n",
       "      <td>1754380.30</td>\n",
       "      <td>56.68</td>\n",
       "      <td>9944538.26</td>\n",
       "    </tr>\n",
       "    <tr>\n",
       "      <th>45</th>\n",
       "      <td>JAWA BARAT</td>\n",
       "      <td>2021</td>\n",
       "      <td>1604109.31</td>\n",
       "      <td>56.81</td>\n",
       "      <td>9113573.08</td>\n",
       "    </tr>\n",
       "    <tr>\n",
       "      <th>46</th>\n",
       "      <td>JAWA TENGAH</td>\n",
       "      <td>2021</td>\n",
       "      <td>1696712.36</td>\n",
       "      <td>56.69</td>\n",
       "      <td>9618656.81</td>\n",
       "    </tr>\n",
       "    <tr>\n",
       "      <th>48</th>\n",
       "      <td>JAWA TIMUR</td>\n",
       "      <td>2021</td>\n",
       "      <td>1747481.20</td>\n",
       "      <td>56.02</td>\n",
       "      <td>9789587.67</td>\n",
       "    </tr>\n",
       "    <tr>\n",
       "      <th>79</th>\n",
       "      <td>JAWA BARAT</td>\n",
       "      <td>2022</td>\n",
       "      <td>1662404.00</td>\n",
       "      <td>56.75</td>\n",
       "      <td>9433723.00</td>\n",
       "    </tr>\n",
       "    <tr>\n",
       "      <th>80</th>\n",
       "      <td>JAWA TENGAH</td>\n",
       "      <td>2022</td>\n",
       "      <td>1688670.00</td>\n",
       "      <td>55.41</td>\n",
       "      <td>9356445.00</td>\n",
       "    </tr>\n",
       "    <tr>\n",
       "      <th>82</th>\n",
       "      <td>JAWA TIMUR</td>\n",
       "      <td>2022</td>\n",
       "      <td>1693211.00</td>\n",
       "      <td>56.26</td>\n",
       "      <td>9526516.00</td>\n",
       "    </tr>\n",
       "  </tbody>\n",
       "</table>\n",
       "</div>"
      ],
      "text/plain": [
       "       Provinsi  Year  Yield.Areal(ha)  Productivity(kw/ha)  Production.(ton)\n",
       "11   JAWA BARAT  2020       1586888.63                56.82        9016772.58\n",
       "12  JAWA TENGAH  2020       1666931.49                56.93        9489164.62\n",
       "14   JAWA TIMUR  2020       1754380.30                56.68        9944538.26\n",
       "45   JAWA BARAT  2021       1604109.31                56.81        9113573.08\n",
       "46  JAWA TENGAH  2021       1696712.36                56.69        9618656.81\n",
       "48   JAWA TIMUR  2021       1747481.20                56.02        9789587.67\n",
       "79   JAWA BARAT  2022       1662404.00                56.75        9433723.00\n",
       "80  JAWA TENGAH  2022       1688670.00                55.41        9356445.00\n",
       "82   JAWA TIMUR  2022       1693211.00                56.26        9526516.00"
      ]
     },
     "execution_count": 334,
     "metadata": {},
     "output_type": "execute_result"
    }
   ],
   "source": [
    "df[df['Yield.Areal(ha)']>1500000]"
   ]
  },
  {
   "cell_type": "code",
   "execution_count": 335,
   "metadata": {},
   "outputs": [
    {
     "data": {
      "text/html": [
       "<div>\n",
       "<style scoped>\n",
       "    .dataframe tbody tr th:only-of-type {\n",
       "        vertical-align: middle;\n",
       "    }\n",
       "\n",
       "    .dataframe tbody tr th {\n",
       "        vertical-align: top;\n",
       "    }\n",
       "\n",
       "    .dataframe thead th {\n",
       "        text-align: right;\n",
       "    }\n",
       "</style>\n",
       "<table border=\"1\" class=\"dataframe\">\n",
       "  <thead>\n",
       "    <tr style=\"text-align: right;\">\n",
       "      <th></th>\n",
       "      <th>Provinsi</th>\n",
       "      <th>Year</th>\n",
       "      <th>Yield.Areal(ha)</th>\n",
       "      <th>Productivity(kw/ha)</th>\n",
       "      <th>Production.(ton)</th>\n",
       "    </tr>\n",
       "  </thead>\n",
       "  <tbody>\n",
       "    <tr>\n",
       "      <th>11</th>\n",
       "      <td>JAWA BARAT</td>\n",
       "      <td>2020</td>\n",
       "      <td>1586888.63</td>\n",
       "      <td>56.82</td>\n",
       "      <td>9016772.58</td>\n",
       "    </tr>\n",
       "    <tr>\n",
       "      <th>12</th>\n",
       "      <td>JAWA TENGAH</td>\n",
       "      <td>2020</td>\n",
       "      <td>1666931.49</td>\n",
       "      <td>56.93</td>\n",
       "      <td>9489164.62</td>\n",
       "    </tr>\n",
       "    <tr>\n",
       "      <th>14</th>\n",
       "      <td>JAWA TIMUR</td>\n",
       "      <td>2020</td>\n",
       "      <td>1754380.30</td>\n",
       "      <td>56.68</td>\n",
       "      <td>9944538.26</td>\n",
       "    </tr>\n",
       "    <tr>\n",
       "      <th>45</th>\n",
       "      <td>JAWA BARAT</td>\n",
       "      <td>2021</td>\n",
       "      <td>1604109.31</td>\n",
       "      <td>56.81</td>\n",
       "      <td>9113573.08</td>\n",
       "    </tr>\n",
       "    <tr>\n",
       "      <th>46</th>\n",
       "      <td>JAWA TENGAH</td>\n",
       "      <td>2021</td>\n",
       "      <td>1696712.36</td>\n",
       "      <td>56.69</td>\n",
       "      <td>9618656.81</td>\n",
       "    </tr>\n",
       "    <tr>\n",
       "      <th>48</th>\n",
       "      <td>JAWA TIMUR</td>\n",
       "      <td>2021</td>\n",
       "      <td>1747481.20</td>\n",
       "      <td>56.02</td>\n",
       "      <td>9789587.67</td>\n",
       "    </tr>\n",
       "    <tr>\n",
       "      <th>79</th>\n",
       "      <td>JAWA BARAT</td>\n",
       "      <td>2022</td>\n",
       "      <td>1662404.00</td>\n",
       "      <td>56.75</td>\n",
       "      <td>9433723.00</td>\n",
       "    </tr>\n",
       "    <tr>\n",
       "      <th>80</th>\n",
       "      <td>JAWA TENGAH</td>\n",
       "      <td>2022</td>\n",
       "      <td>1688670.00</td>\n",
       "      <td>55.41</td>\n",
       "      <td>9356445.00</td>\n",
       "    </tr>\n",
       "    <tr>\n",
       "      <th>82</th>\n",
       "      <td>JAWA TIMUR</td>\n",
       "      <td>2022</td>\n",
       "      <td>1693211.00</td>\n",
       "      <td>56.26</td>\n",
       "      <td>9526516.00</td>\n",
       "    </tr>\n",
       "  </tbody>\n",
       "</table>\n",
       "</div>"
      ],
      "text/plain": [
       "       Provinsi  Year  Yield.Areal(ha)  Productivity(kw/ha)  Production.(ton)\n",
       "11   JAWA BARAT  2020       1586888.63                56.82        9016772.58\n",
       "12  JAWA TENGAH  2020       1666931.49                56.93        9489164.62\n",
       "14   JAWA TIMUR  2020       1754380.30                56.68        9944538.26\n",
       "45   JAWA BARAT  2021       1604109.31                56.81        9113573.08\n",
       "46  JAWA TENGAH  2021       1696712.36                56.69        9618656.81\n",
       "48   JAWA TIMUR  2021       1747481.20                56.02        9789587.67\n",
       "79   JAWA BARAT  2022       1662404.00                56.75        9433723.00\n",
       "80  JAWA TENGAH  2022       1688670.00                55.41        9356445.00\n",
       "82   JAWA TIMUR  2022       1693211.00                56.26        9526516.00"
      ]
     },
     "execution_count": 335,
     "metadata": {},
     "output_type": "execute_result"
    }
   ],
   "source": [
    "df[df['Production.(ton)']>8000000]"
   ]
  },
  {
   "cell_type": "markdown",
   "metadata": {},
   "source": [
    "### 1. Production by Year "
   ]
  },
  {
   "cell_type": "code",
   "execution_count": 336,
   "metadata": {},
   "outputs": [
    {
     "data": {
      "text/plain": [
       "<matplotlib.axes._subplots.AxesSubplot at 0x1c93154af48>"
      ]
     },
     "execution_count": 336,
     "metadata": {},
     "output_type": "execute_result"
    },
    {
     "data": {
      "image/png": "[encoded data removed]",
      "text/plain": [
       "<Figure size 216x576 with 1 Axes>"
      ]
     },
     "metadata": {
      "needs_background": "light"
     },
     "output_type": "display_data"
    }
   ],
   "source": [
    "df[[\"Yield.Areal(ha)\",\"Year\"]].boxplot(by=\"Year\", figsize=(3, 8))"
   ]
  },
  {
   "cell_type": "code",
   "execution_count": 337,
   "metadata": {},
   "outputs": [
    {
     "data": {
      "text/plain": [
       "<matplotlib.axes._subplots.AxesSubplot at 0x1c93154a288>"
      ]
     },
     "execution_count": 337,
     "metadata": {},
     "output_type": "execute_result"
    },
    {
     "data": {
      "image/png": "[encoded data removed]",
      "text/plain": [
       "<Figure size 216x576 with 1 Axes>"
      ]
     },
     "metadata": {
      "needs_background": "light"
     },
     "output_type": "display_data"
    }
   ],
   "source": [
    "df[[\"Productivity(kw/ha)\",\"Year\"]].boxplot(by=\"Year\", figsize=(3, 8))"
   ]
  },
  {
   "cell_type": "code",
   "execution_count": 338,
   "metadata": {},
   "outputs": [
    {
     "data": {
      "text/plain": [
       "<matplotlib.axes._subplots.AxesSubplot at 0x1c932672048>"
      ]
     },
     "execution_count": 338,
     "metadata": {},
     "output_type": "execute_result"
    },
    {
     "data": {
      "image/png": "[encoded data removed]",
      "text/plain": [
       "<Figure size 216x576 with 1 Axes>"
      ]
     },
     "metadata": {
      "needs_background": "light"
     },
     "output_type": "display_data"
    }
   ],
   "source": [
    "df[[\"Production.(ton)\",\"Year\"]].boxplot(by=\"Year\", figsize=(3, 8))"
   ]
  },
  {
   "cell_type": "code",
   "execution_count": 339,
   "metadata": {},
   "outputs": [
    {
     "data": {
      "text/html": [
       "<div>\n",
       "<style scoped>\n",
       "    .dataframe tbody tr th:only-of-type {\n",
       "        vertical-align: middle;\n",
       "    }\n",
       "\n",
       "    .dataframe tbody tr th {\n",
       "        vertical-align: top;\n",
       "    }\n",
       "\n",
       "    .dataframe thead th {\n",
       "        text-align: right;\n",
       "    }\n",
       "</style>\n",
       "<table border=\"1\" class=\"dataframe\">\n",
       "  <thead>\n",
       "    <tr style=\"text-align: right;\">\n",
       "      <th></th>\n",
       "      <th>Production.(ton)</th>\n",
       "      <th>Yield.Areal(ha)</th>\n",
       "    </tr>\n",
       "    <tr>\n",
       "      <th>Year</th>\n",
       "      <th></th>\n",
       "      <th></th>\n",
       "    </tr>\n",
       "  </thead>\n",
       "  <tbody>\n",
       "    <tr>\n",
       "      <th>2020</th>\n",
       "      <td>54649202.24</td>\n",
       "      <td>10657274.96</td>\n",
       "    </tr>\n",
       "    <tr>\n",
       "      <th>2021</th>\n",
       "      <td>54415294.22</td>\n",
       "      <td>10411801.22</td>\n",
       "    </tr>\n",
       "    <tr>\n",
       "      <th>2022</th>\n",
       "      <td>54748975.85</td>\n",
       "      <td>10452672.35</td>\n",
       "    </tr>\n",
       "  </tbody>\n",
       "</table>\n",
       "</div>"
      ],
      "text/plain": [
       "      Production.(ton)  Yield.Areal(ha)\n",
       "Year                                   \n",
       "2020       54649202.24      10657274.96\n",
       "2021       54415294.22      10411801.22\n",
       "2022       54748975.85      10452672.35"
      ]
     },
     "execution_count": 339,
     "metadata": {},
     "output_type": "execute_result"
    }
   ],
   "source": [
    "df[[\"Production.(ton)\",\"Yield.Areal(ha)\",\"Year\"]].groupby('Year').sum()"
   ]
  },
  {
   "cell_type": "markdown",
   "metadata": {},
   "source": [
    "### 2. Province with most productive every year"
   ]
  },
  {
   "cell_type": "code",
   "execution_count": 340,
   "metadata": {
    "scrolled": true
   },
   "outputs": [
    {
     "data": {
      "text/html": [
       "<div>\n",
       "<style scoped>\n",
       "    .dataframe tbody tr th:only-of-type {\n",
       "        vertical-align: middle;\n",
       "    }\n",
       "\n",
       "    .dataframe tbody tr th {\n",
       "        vertical-align: top;\n",
       "    }\n",
       "\n",
       "    .dataframe thead th {\n",
       "        text-align: right;\n",
       "    }\n",
       "</style>\n",
       "<table border=\"1\" class=\"dataframe\">\n",
       "  <thead>\n",
       "    <tr style=\"text-align: right;\">\n",
       "      <th></th>\n",
       "      <th>Provinsi</th>\n",
       "      <th>Year</th>\n",
       "      <th>Yield.Areal(ha)</th>\n",
       "      <th>Productivity(kw/ha)</th>\n",
       "      <th>Production.(ton)</th>\n",
       "    </tr>\n",
       "  </thead>\n",
       "  <tbody>\n",
       "    <tr>\n",
       "      <th>14</th>\n",
       "      <td>JAWA TIMUR</td>\n",
       "      <td>2020</td>\n",
       "      <td>1754380.30</td>\n",
       "      <td>56.68</td>\n",
       "      <td>9944538.26</td>\n",
       "    </tr>\n",
       "    <tr>\n",
       "      <th>12</th>\n",
       "      <td>JAWA TENGAH</td>\n",
       "      <td>2020</td>\n",
       "      <td>1666931.49</td>\n",
       "      <td>56.93</td>\n",
       "      <td>9489164.62</td>\n",
       "    </tr>\n",
       "    <tr>\n",
       "      <th>11</th>\n",
       "      <td>JAWA BARAT</td>\n",
       "      <td>2020</td>\n",
       "      <td>1586888.63</td>\n",
       "      <td>56.82</td>\n",
       "      <td>9016772.58</td>\n",
       "    </tr>\n",
       "  </tbody>\n",
       "</table>\n",
       "</div>"
      ],
      "text/plain": [
       "       Provinsi  Year  Yield.Areal(ha)  Productivity(kw/ha)  Production.(ton)\n",
       "14   JAWA TIMUR  2020       1754380.30                56.68        9944538.26\n",
       "12  JAWA TENGAH  2020       1666931.49                56.93        9489164.62\n",
       "11   JAWA BARAT  2020       1586888.63                56.82        9016772.58"
      ]
     },
     "execution_count": 340,
     "metadata": {},
     "output_type": "execute_result"
    }
   ],
   "source": [
    "df[df['Year']==2020].sort_values(by='Production.(ton)', ascending=False).head(3)"
   ]
  },
  {
   "cell_type": "code",
   "execution_count": 341,
   "metadata": {},
   "outputs": [
    {
     "data": {
      "text/html": [
       "<div>\n",
       "<style scoped>\n",
       "    .dataframe tbody tr th:only-of-type {\n",
       "        vertical-align: middle;\n",
       "    }\n",
       "\n",
       "    .dataframe tbody tr th {\n",
       "        vertical-align: top;\n",
       "    }\n",
       "\n",
       "    .dataframe thead th {\n",
       "        text-align: right;\n",
       "    }\n",
       "</style>\n",
       "<table border=\"1\" class=\"dataframe\">\n",
       "  <thead>\n",
       "    <tr style=\"text-align: right;\">\n",
       "      <th></th>\n",
       "      <th>Provinsi</th>\n",
       "      <th>Year</th>\n",
       "      <th>Yield.Areal(ha)</th>\n",
       "      <th>Productivity(kw/ha)</th>\n",
       "      <th>Production.(ton)</th>\n",
       "    </tr>\n",
       "  </thead>\n",
       "  <tbody>\n",
       "    <tr>\n",
       "      <th>48</th>\n",
       "      <td>JAWA TIMUR</td>\n",
       "      <td>2021</td>\n",
       "      <td>1747481.20</td>\n",
       "      <td>56.02</td>\n",
       "      <td>9789587.67</td>\n",
       "    </tr>\n",
       "    <tr>\n",
       "      <th>46</th>\n",
       "      <td>JAWA TENGAH</td>\n",
       "      <td>2021</td>\n",
       "      <td>1696712.36</td>\n",
       "      <td>56.69</td>\n",
       "      <td>9618656.81</td>\n",
       "    </tr>\n",
       "    <tr>\n",
       "      <th>45</th>\n",
       "      <td>JAWA BARAT</td>\n",
       "      <td>2021</td>\n",
       "      <td>1604109.31</td>\n",
       "      <td>56.81</td>\n",
       "      <td>9113573.08</td>\n",
       "    </tr>\n",
       "  </tbody>\n",
       "</table>\n",
       "</div>"
      ],
      "text/plain": [
       "       Provinsi  Year  Yield.Areal(ha)  Productivity(kw/ha)  Production.(ton)\n",
       "48   JAWA TIMUR  2021       1747481.20                56.02        9789587.67\n",
       "46  JAWA TENGAH  2021       1696712.36                56.69        9618656.81\n",
       "45   JAWA BARAT  2021       1604109.31                56.81        9113573.08"
      ]
     },
     "execution_count": 341,
     "metadata": {},
     "output_type": "execute_result"
    }
   ],
   "source": [
    "df[df['Year']==2021].sort_values(by='Production.(ton)', ascending=False).head(3)"
   ]
  },
  {
   "cell_type": "code",
   "execution_count": 342,
   "metadata": {
    "scrolled": true
   },
   "outputs": [
    {
     "data": {
      "text/html": [
       "<div>\n",
       "<style scoped>\n",
       "    .dataframe tbody tr th:only-of-type {\n",
       "        vertical-align: middle;\n",
       "    }\n",
       "\n",
       "    .dataframe tbody tr th {\n",
       "        vertical-align: top;\n",
       "    }\n",
       "\n",
       "    .dataframe thead th {\n",
       "        text-align: right;\n",
       "    }\n",
       "</style>\n",
       "<table border=\"1\" class=\"dataframe\">\n",
       "  <thead>\n",
       "    <tr style=\"text-align: right;\">\n",
       "      <th></th>\n",
       "      <th>Provinsi</th>\n",
       "      <th>Year</th>\n",
       "      <th>Yield.Areal(ha)</th>\n",
       "      <th>Productivity(kw/ha)</th>\n",
       "      <th>Production.(ton)</th>\n",
       "    </tr>\n",
       "  </thead>\n",
       "  <tbody>\n",
       "    <tr>\n",
       "      <th>82</th>\n",
       "      <td>JAWA TIMUR</td>\n",
       "      <td>2022</td>\n",
       "      <td>1693211.0</td>\n",
       "      <td>56.26</td>\n",
       "      <td>9526516.0</td>\n",
       "    </tr>\n",
       "    <tr>\n",
       "      <th>79</th>\n",
       "      <td>JAWA BARAT</td>\n",
       "      <td>2022</td>\n",
       "      <td>1662404.0</td>\n",
       "      <td>56.75</td>\n",
       "      <td>9433723.0</td>\n",
       "    </tr>\n",
       "    <tr>\n",
       "      <th>80</th>\n",
       "      <td>JAWA TENGAH</td>\n",
       "      <td>2022</td>\n",
       "      <td>1688670.0</td>\n",
       "      <td>55.41</td>\n",
       "      <td>9356445.0</td>\n",
       "    </tr>\n",
       "  </tbody>\n",
       "</table>\n",
       "</div>"
      ],
      "text/plain": [
       "       Provinsi  Year  Yield.Areal(ha)  Productivity(kw/ha)  Production.(ton)\n",
       "82   JAWA TIMUR  2022        1693211.0                56.26         9526516.0\n",
       "79   JAWA BARAT  2022        1662404.0                56.75         9433723.0\n",
       "80  JAWA TENGAH  2022        1688670.0                55.41         9356445.0"
      ]
     },
     "execution_count": 342,
     "metadata": {},
     "output_type": "execute_result"
    }
   ],
   "source": [
    "df[df['Year']==2022].sort_values(by='Production.(ton)', ascending=False).head(3)"
   ]
  },
  {
   "cell_type": "code",
   "execution_count": null,
   "metadata": {},
   "outputs": [],
   "source": []
  },
  {
   "cell_type": "code",
   "execution_count": 361,
   "metadata": {},
   "outputs": [
    {
     "data": {
      "text/plain": [
       "<matplotlib.axes._subplots.AxesSubplot at 0x1c933ca4348>"
      ]
     },
     "execution_count": 361,
     "metadata": {},
     "output_type": "execute_result"
    },
    {
     "data": {
      "image/png": "[encoded data removed]",
      "text/plain": [
       "<Figure size 432x864 with 1 Axes>"
      ]
     },
     "metadata": {
      "needs_background": "light"
     },
     "output_type": "display_data"
    }
   ],
   "source": [
    "df_prod_2022 = df[df['Year']==2022].sort_values(by='Yield.Areal(ha)').set_index('Provinsi')\n",
    "df_prod_2022['Production.(ton)'].plot(kind='barh', figsize=(6,12))"
   ]
  },
  {
   "cell_type": "code",
   "execution_count": 362,
   "metadata": {},
   "outputs": [
    {
     "data": {
      "text/html": [
       "<div>\n",
       "<style scoped>\n",
       "    .dataframe tbody tr th:only-of-type {\n",
       "        vertical-align: middle;\n",
       "    }\n",
       "\n",
       "    .dataframe tbody tr th {\n",
       "        vertical-align: top;\n",
       "    }\n",
       "\n",
       "    .dataframe thead th {\n",
       "        text-align: right;\n",
       "    }\n",
       "</style>\n",
       "<table border=\"1\" class=\"dataframe\">\n",
       "  <thead>\n",
       "    <tr style=\"text-align: right;\">\n",
       "      <th></th>\n",
       "      <th>Year</th>\n",
       "      <th>Yield.Areal(ha)</th>\n",
       "      <th>Productivity(kw/ha)</th>\n",
       "      <th>Production.(ton)</th>\n",
       "    </tr>\n",
       "    <tr>\n",
       "      <th>Provinsi</th>\n",
       "      <th></th>\n",
       "      <th></th>\n",
       "      <th></th>\n",
       "      <th></th>\n",
       "    </tr>\n",
       "  </thead>\n",
       "  <tbody>\n",
       "    <tr>\n",
       "      <th>KEP. RIAU</th>\n",
       "      <td>2022</td>\n",
       "      <td>179.48</td>\n",
       "      <td>28.24</td>\n",
       "      <td>506.91</td>\n",
       "    </tr>\n",
       "    <tr>\n",
       "      <th>DKI JAKARTA</th>\n",
       "      <td>2022</td>\n",
       "      <td>477.25</td>\n",
       "      <td>48.98</td>\n",
       "      <td>2337.77</td>\n",
       "    </tr>\n",
       "    <tr>\n",
       "      <th>PAPUA BARAT</th>\n",
       "      <td>2022</td>\n",
       "      <td>5460.59</td>\n",
       "      <td>43.89</td>\n",
       "      <td>23963.92</td>\n",
       "    </tr>\n",
       "    <tr>\n",
       "      <th>MALUKU UTARA</th>\n",
       "      <td>2022</td>\n",
       "      <td>6416.45</td>\n",
       "      <td>38.16</td>\n",
       "      <td>24486.03</td>\n",
       "    </tr>\n",
       "    <tr>\n",
       "      <th>KALIMANTAN UTARA</th>\n",
       "      <td>2022</td>\n",
       "      <td>8604.19</td>\n",
       "      <td>35.49</td>\n",
       "      <td>30533.59</td>\n",
       "    </tr>\n",
       "    <tr>\n",
       "      <th>KEP. BANGKA BELITUNG</th>\n",
       "      <td>2022</td>\n",
       "      <td>15107.80</td>\n",
       "      <td>40.66</td>\n",
       "      <td>61425.07</td>\n",
       "    </tr>\n",
       "    <tr>\n",
       "      <th>MALUKU</th>\n",
       "      <td>2022</td>\n",
       "      <td>23987.82</td>\n",
       "      <td>38.60</td>\n",
       "      <td>92601.06</td>\n",
       "    </tr>\n",
       "    <tr>\n",
       "      <th>GORONTALO</th>\n",
       "      <td>2022</td>\n",
       "      <td>46823.47</td>\n",
       "      <td>51.29</td>\n",
       "      <td>240134.50</td>\n",
       "    </tr>\n",
       "    <tr>\n",
       "      <th>PAPUA</th>\n",
       "      <td>2022</td>\n",
       "      <td>49741.91</td>\n",
       "      <td>38.99</td>\n",
       "      <td>193943.50</td>\n",
       "    </tr>\n",
       "    <tr>\n",
       "      <th>RIAU</th>\n",
       "      <td>2022</td>\n",
       "      <td>51054.04</td>\n",
       "      <td>41.83</td>\n",
       "      <td>213557.20</td>\n",
       "    </tr>\n",
       "    <tr>\n",
       "      <th>BENGKULU</th>\n",
       "      <td>2022</td>\n",
       "      <td>57151.84</td>\n",
       "      <td>49.27</td>\n",
       "      <td>281610.10</td>\n",
       "    </tr>\n",
       "    <tr>\n",
       "      <th>SULAWESI UTARA</th>\n",
       "      <td>2022</td>\n",
       "      <td>58195.56</td>\n",
       "      <td>41.88</td>\n",
       "      <td>243730.30</td>\n",
       "    </tr>\n",
       "    <tr>\n",
       "      <th>JAMBI</th>\n",
       "      <td>2022</td>\n",
       "      <td>60539.59</td>\n",
       "      <td>45.88</td>\n",
       "      <td>277743.80</td>\n",
       "    </tr>\n",
       "    <tr>\n",
       "      <th>KALIMANTAN TIMUR</th>\n",
       "      <td>2022</td>\n",
       "      <td>64970.01</td>\n",
       "      <td>36.85</td>\n",
       "      <td>239425.30</td>\n",
       "    </tr>\n",
       "    <tr>\n",
       "      <th>SULAWESI BARAT</th>\n",
       "      <td>2022</td>\n",
       "      <td>69323.95</td>\n",
       "      <td>50.99</td>\n",
       "      <td>353513.30</td>\n",
       "    </tr>\n",
       "    <tr>\n",
       "      <th>KALIMANTAN TENGAH</th>\n",
       "      <td>2022</td>\n",
       "      <td>108226.80</td>\n",
       "      <td>31.78</td>\n",
       "      <td>343918.80</td>\n",
       "    </tr>\n",
       "    <tr>\n",
       "      <th>DI YOGYAKARTA</th>\n",
       "      <td>2022</td>\n",
       "      <td>110927.20</td>\n",
       "      <td>50.64</td>\n",
       "      <td>561699.50</td>\n",
       "    </tr>\n",
       "    <tr>\n",
       "      <th>BALI</th>\n",
       "      <td>2022</td>\n",
       "      <td>112320.60</td>\n",
       "      <td>60.59</td>\n",
       "      <td>680601.60</td>\n",
       "    </tr>\n",
       "    <tr>\n",
       "      <th>SULAWESI TENGGARA</th>\n",
       "      <td>2022</td>\n",
       "      <td>118258.80</td>\n",
       "      <td>40.50</td>\n",
       "      <td>478958.00</td>\n",
       "    </tr>\n",
       "    <tr>\n",
       "      <th>SULAWESI TENGAH</th>\n",
       "      <td>2022</td>\n",
       "      <td>168993.20</td>\n",
       "      <td>44.05</td>\n",
       "      <td>744408.70</td>\n",
       "    </tr>\n",
       "    <tr>\n",
       "      <th>NUSA TENGGARA TIMUR</th>\n",
       "      <td>2022</td>\n",
       "      <td>183092.00</td>\n",
       "      <td>41.29</td>\n",
       "      <td>756049.90</td>\n",
       "    </tr>\n",
       "    <tr>\n",
       "      <th>KALIMANTAN SELATAN</th>\n",
       "      <td>2022</td>\n",
       "      <td>214908.90</td>\n",
       "      <td>38.13</td>\n",
       "      <td>819419.20</td>\n",
       "    </tr>\n",
       "    <tr>\n",
       "      <th>KALIMANTAN BARAT</th>\n",
       "      <td>2022</td>\n",
       "      <td>241478.60</td>\n",
       "      <td>30.28</td>\n",
       "      <td>731225.80</td>\n",
       "    </tr>\n",
       "    <tr>\n",
       "      <th>NUSA TENGGARA BARAT</th>\n",
       "      <td>2022</td>\n",
       "      <td>270092.90</td>\n",
       "      <td>53.79</td>\n",
       "      <td>1452945.00</td>\n",
       "    </tr>\n",
       "    <tr>\n",
       "      <th>ACEH</th>\n",
       "      <td>2022</td>\n",
       "      <td>271750.20</td>\n",
       "      <td>55.55</td>\n",
       "      <td>1509456.00</td>\n",
       "    </tr>\n",
       "    <tr>\n",
       "      <th>SUMATERA BARAT</th>\n",
       "      <td>2022</td>\n",
       "      <td>271883.10</td>\n",
       "      <td>50.52</td>\n",
       "      <td>1373532.00</td>\n",
       "    </tr>\n",
       "    <tr>\n",
       "      <th>BANTEN</th>\n",
       "      <td>2022</td>\n",
       "      <td>337240.70</td>\n",
       "      <td>53.04</td>\n",
       "      <td>1788583.00</td>\n",
       "    </tr>\n",
       "    <tr>\n",
       "      <th>SUMATERA UTARA</th>\n",
       "      <td>2022</td>\n",
       "      <td>411462.10</td>\n",
       "      <td>50.76</td>\n",
       "      <td>2088584.00</td>\n",
       "    </tr>\n",
       "    <tr>\n",
       "      <th>SUMATERA SELATAN</th>\n",
       "      <td>2022</td>\n",
       "      <td>513378.20</td>\n",
       "      <td>54.06</td>\n",
       "      <td>2775069.00</td>\n",
       "    </tr>\n",
       "    <tr>\n",
       "      <th>LAMPUNG</th>\n",
       "      <td>2022</td>\n",
       "      <td>518256.10</td>\n",
       "      <td>51.87</td>\n",
       "      <td>2688160.00</td>\n",
       "    </tr>\n",
       "    <tr>\n",
       "      <th>SULAWESI SELATAN</th>\n",
       "      <td>2022</td>\n",
       "      <td>1038084.00</td>\n",
       "      <td>51.64</td>\n",
       "      <td>5360169.00</td>\n",
       "    </tr>\n",
       "    <tr>\n",
       "      <th>JAWA BARAT</th>\n",
       "      <td>2022</td>\n",
       "      <td>1662404.00</td>\n",
       "      <td>56.75</td>\n",
       "      <td>9433723.00</td>\n",
       "    </tr>\n",
       "    <tr>\n",
       "      <th>JAWA TENGAH</th>\n",
       "      <td>2022</td>\n",
       "      <td>1688670.00</td>\n",
       "      <td>55.41</td>\n",
       "      <td>9356445.00</td>\n",
       "    </tr>\n",
       "    <tr>\n",
       "      <th>JAWA TIMUR</th>\n",
       "      <td>2022</td>\n",
       "      <td>1693211.00</td>\n",
       "      <td>56.26</td>\n",
       "      <td>9526516.00</td>\n",
       "    </tr>\n",
       "  </tbody>\n",
       "</table>\n",
       "</div>"
      ],
      "text/plain": [
       "                      Year  Yield.Areal(ha)  Productivity(kw/ha)  \\\n",
       "Provinsi                                                           \n",
       "KEP. RIAU             2022           179.48                28.24   \n",
       "DKI JAKARTA           2022           477.25                48.98   \n",
       "PAPUA BARAT           2022          5460.59                43.89   \n",
       "MALUKU UTARA          2022          6416.45                38.16   \n",
       "KALIMANTAN UTARA      2022          8604.19                35.49   \n",
       "KEP. BANGKA BELITUNG  2022         15107.80                40.66   \n",
       "MALUKU                2022         23987.82                38.60   \n",
       "GORONTALO             2022         46823.47                51.29   \n",
       "PAPUA                 2022         49741.91                38.99   \n",
       "RIAU                  2022         51054.04                41.83   \n",
       "BENGKULU              2022         57151.84                49.27   \n",
       "SULAWESI UTARA        2022         58195.56                41.88   \n",
       "JAMBI                 2022         60539.59                45.88   \n",
       "KALIMANTAN TIMUR      2022         64970.01                36.85   \n",
       "SULAWESI BARAT        2022         69323.95                50.99   \n",
       "KALIMANTAN TENGAH     2022        108226.80                31.78   \n",
       "DI YOGYAKARTA         2022        110927.20                50.64   \n",
       "BALI                  2022        112320.60                60.59   \n",
       "SULAWESI TENGGARA     2022        118258.80                40.50   \n",
       "SULAWESI TENGAH       2022        168993.20                44.05   \n",
       "NUSA TENGGARA TIMUR   2022        183092.00                41.29   \n",
       "KALIMANTAN SELATAN    2022        214908.90                38.13   \n",
       "KALIMANTAN BARAT      2022        241478.60                30.28   \n",
       "NUSA TENGGARA BARAT   2022        270092.90                53.79   \n",
       "ACEH                  2022        271750.20                55.55   \n",
       "SUMATERA BARAT        2022        271883.10                50.52   \n",
       "BANTEN                2022        337240.70                53.04   \n",
       "SUMATERA UTARA        2022        411462.10                50.76   \n",
       "SUMATERA SELATAN      2022        513378.20                54.06   \n",
       "LAMPUNG               2022        518256.10                51.87   \n",
       "SULAWESI SELATAN      2022       1038084.00                51.64   \n",
       "JAWA BARAT            2022       1662404.00                56.75   \n",
       "JAWA TENGAH           2022       1688670.00                55.41   \n",
       "JAWA TIMUR            2022       1693211.00                56.26   \n",
       "\n",
       "                      Production.(ton)  \n",
       "Provinsi                                \n",
       "KEP. RIAU                       506.91  \n",
       "DKI JAKARTA                    2337.77  \n",
       "PAPUA BARAT                   23963.92  \n",
       "MALUKU UTARA                  24486.03  \n",
       "KALIMANTAN UTARA              30533.59  \n",
       "KEP. BANGKA BELITUNG          61425.07  \n",
       "MALUKU                        92601.06  \n",
       "GORONTALO                    240134.50  \n",
       "PAPUA                        193943.50  \n",
       "RIAU                         213557.20  \n",
       "BENGKULU                     281610.10  \n",
       "SULAWESI UTARA               243730.30  \n",
       "JAMBI                        277743.80  \n",
       "KALIMANTAN TIMUR             239425.30  \n",
       "SULAWESI BARAT               353513.30  \n",
       "KALIMANTAN TENGAH            343918.80  \n",
       "DI YOGYAKARTA                561699.50  \n",
       "BALI                         680601.60  \n",
       "SULAWESI TENGGARA            478958.00  \n",
       "SULAWESI TENGAH              744408.70  \n",
       "NUSA TENGGARA TIMUR          756049.90  \n",
       "KALIMANTAN SELATAN           819419.20  \n",
       "KALIMANTAN BARAT             731225.80  \n",
       "NUSA TENGGARA BARAT         1452945.00  \n",
       "ACEH                        1509456.00  \n",
       "SUMATERA BARAT              1373532.00  \n",
       "BANTEN                      1788583.00  \n",
       "SUMATERA UTARA              2088584.00  \n",
       "SUMATERA SELATAN            2775069.00  \n",
       "LAMPUNG                     2688160.00  \n",
       "SULAWESI SELATAN            5360169.00  \n",
       "JAWA BARAT                  9433723.00  \n",
       "JAWA TENGAH                 9356445.00  \n",
       "JAWA TIMUR                  9526516.00  "
      ]
     },
     "execution_count": 362,
     "metadata": {},
     "output_type": "execute_result"
    }
   ],
   "source": [
    "df_prod_2022"
   ]
  },
  {
   "cell_type": "markdown",
   "metadata": {},
   "source": [
    "### 3. Production Difference from 2020 to 2022"
   ]
  },
  {
   "cell_type": "code",
   "execution_count": 343,
   "metadata": {},
   "outputs": [],
   "source": [
    "provinces = []\n",
    "production_diff = []\n",
    "yield_diff = []\n",
    "productivity_diff = []\n",
    "\n",
    "for province in df.Provinsi.unique():\n",
    "    diff1 = 100*(df[df[\"Provinsi\"]==province].iloc[2,2] - df[df[\"Provinsi\"]==province].iloc[0,2])/df[df[\"Provinsi\"]==province].iloc[0,2]\n",
    "    diff2 = 100*(df[df[\"Provinsi\"]==province].iloc[2,3] - df[df[\"Provinsi\"]==province].iloc[0,3])/df[df[\"Provinsi\"]==province].iloc[0,3]\n",
    "    diff3 = 100*(df[df[\"Provinsi\"]==province].iloc[2,4] - df[df[\"Provinsi\"]==province].iloc[0,4])/df[df[\"Provinsi\"]==province].iloc[0,4]\n",
    "    provinces.append(province)\n",
    "    yield_diff.append(round(diff1,2))\n",
    "    productivity_diff.append(round(diff2,2))\n",
    "    production_diff.append(round(diff3,2))\n",
    "    \n",
    "df_diff = pd.DataFrame(list(zip(yield_diff, productivity_diff, production_diff)), index=provinces,\n",
    "               columns =['yield_diff', 'productivity_diff', 'production_diff'])"
   ]
  },
  {
   "cell_type": "code",
   "execution_count": 344,
   "metadata": {},
   "outputs": [
    {
     "data": {
      "text/plain": [
       "<matplotlib.axes._subplots.AxesSubplot at 0x1c932732ec8>"
      ]
     },
     "execution_count": 344,
     "metadata": {},
     "output_type": "execute_result"
    },
    {
     "data": {
      "image/png": "[encoded data removed]",
      "text/plain": [
       "<Figure size 432x720 with 1 Axes>"
      ]
     },
     "metadata": {
      "needs_background": "light"
     },
     "output_type": "display_data"
    }
   ],
   "source": [
    "df_diff.sort_values(by='yield_diff')['yield_diff'].plot(kind='barh', figsize=(6,10), title=\"Yield area diff from 2020 to 2022\")"
   ]
  },
  {
   "cell_type": "code",
   "execution_count": 345,
   "metadata": {},
   "outputs": [
    {
     "data": {
      "text/plain": [
       "<matplotlib.axes._subplots.AxesSubplot at 0x1c932983e08>"
      ]
     },
     "execution_count": 345,
     "metadata": {},
     "output_type": "execute_result"
    },
    {
     "data": {
      "image/png": "[encoded data removed]",
      "text/plain": [
       "<Figure size 432x720 with 1 Axes>"
      ]
     },
     "metadata": {
      "needs_background": "light"
     },
     "output_type": "display_data"
    }
   ],
   "source": [
    "df_diff.sort_values(by='productivity_diff')['productivity_diff'].plot(kind='barh', figsize=(6,10), title=\"Productivity diff from 2020 to 2022\")"
   ]
  },
  {
   "cell_type": "code",
   "execution_count": 346,
   "metadata": {},
   "outputs": [
    {
     "name": "stdout",
     "output_type": "stream",
     "text": [
      "AxesSubplot(0.125,0.125;0.775x0.755)\n"
     ]
    },
    {
     "data": {
      "image/png": "[encoded data removed]",
      "text/plain": [
       "<Figure size 432x720 with 1 Axes>"
      ]
     },
     "metadata": {
      "needs_background": "light"
     },
     "output_type": "display_data"
    }
   ],
   "source": [
    "print(df_diff.sort_values(by='production_diff')['production_diff'].plot(kind='barh', figsize=(6,10), title=\"Production diff from 2020 to 2022\"))"
   ]
  },
  {
   "cell_type": "code",
   "execution_count": 347,
   "metadata": {},
   "outputs": [
    {
     "data": {
      "text/html": [
       "<div>\n",
       "<style scoped>\n",
       "    .dataframe tbody tr th:only-of-type {\n",
       "        vertical-align: middle;\n",
       "    }\n",
       "\n",
       "    .dataframe tbody tr th {\n",
       "        vertical-align: top;\n",
       "    }\n",
       "\n",
       "    .dataframe thead th {\n",
       "        text-align: right;\n",
       "    }\n",
       "</style>\n",
       "<table border=\"1\" class=\"dataframe\">\n",
       "  <thead>\n",
       "    <tr style=\"text-align: right;\">\n",
       "      <th></th>\n",
       "      <th>yield_diff</th>\n",
       "      <th>productivity_diff</th>\n",
       "      <th>production_diff</th>\n",
       "    </tr>\n",
       "  </thead>\n",
       "  <tbody>\n",
       "    <tr>\n",
       "      <th>ACEH</th>\n",
       "      <td>-14.51</td>\n",
       "      <td>0.49</td>\n",
       "      <td>-14.10</td>\n",
       "    </tr>\n",
       "    <tr>\n",
       "      <th>SUMATERA UTARA</th>\n",
       "      <td>5.89</td>\n",
       "      <td>-3.33</td>\n",
       "      <td>2.36</td>\n",
       "    </tr>\n",
       "    <tr>\n",
       "      <th>SUMATERA BARAT</th>\n",
       "      <td>-8.04</td>\n",
       "      <td>7.67</td>\n",
       "      <td>-0.99</td>\n",
       "    </tr>\n",
       "    <tr>\n",
       "      <th>RIAU</th>\n",
       "      <td>-21.13</td>\n",
       "      <td>11.13</td>\n",
       "      <td>-12.36</td>\n",
       "    </tr>\n",
       "    <tr>\n",
       "      <th>JAMBI</th>\n",
       "      <td>-28.59</td>\n",
       "      <td>0.66</td>\n",
       "      <td>-28.12</td>\n",
       "    </tr>\n",
       "    <tr>\n",
       "      <th>SUMATERA SELATAN</th>\n",
       "      <td>-6.88</td>\n",
       "      <td>8.66</td>\n",
       "      <td>1.17</td>\n",
       "    </tr>\n",
       "    <tr>\n",
       "      <th>BENGKULU</th>\n",
       "      <td>-10.89</td>\n",
       "      <td>7.91</td>\n",
       "      <td>-3.83</td>\n",
       "    </tr>\n",
       "    <tr>\n",
       "      <th>LAMPUNG</th>\n",
       "      <td>-4.93</td>\n",
       "      <td>6.68</td>\n",
       "      <td>1.43</td>\n",
       "    </tr>\n",
       "    <tr>\n",
       "      <th>KEP. BANGKA BELITUNG</th>\n",
       "      <td>-15.32</td>\n",
       "      <td>26.55</td>\n",
       "      <td>7.15</td>\n",
       "    </tr>\n",
       "    <tr>\n",
       "      <th>KEP. RIAU</th>\n",
       "      <td>-39.88</td>\n",
       "      <td>-1.12</td>\n",
       "      <td>-40.54</td>\n",
       "    </tr>\n",
       "    <tr>\n",
       "      <th>DKI JAKARTA</th>\n",
       "      <td>-47.81</td>\n",
       "      <td>-1.43</td>\n",
       "      <td>-48.55</td>\n",
       "    </tr>\n",
       "    <tr>\n",
       "      <th>JAWA BARAT</th>\n",
       "      <td>4.76</td>\n",
       "      <td>-0.12</td>\n",
       "      <td>4.62</td>\n",
       "    </tr>\n",
       "    <tr>\n",
       "      <th>JAWA TENGAH</th>\n",
       "      <td>1.30</td>\n",
       "      <td>-2.67</td>\n",
       "      <td>-1.40</td>\n",
       "    </tr>\n",
       "    <tr>\n",
       "      <th>DI YOGYAKARTA</th>\n",
       "      <td>0.34</td>\n",
       "      <td>6.95</td>\n",
       "      <td>7.32</td>\n",
       "    </tr>\n",
       "    <tr>\n",
       "      <th>JAWA TIMUR</th>\n",
       "      <td>-3.49</td>\n",
       "      <td>-0.74</td>\n",
       "      <td>-4.20</td>\n",
       "    </tr>\n",
       "    <tr>\n",
       "      <th>BANTEN</th>\n",
       "      <td>3.66</td>\n",
       "      <td>4.25</td>\n",
       "      <td>8.06</td>\n",
       "    </tr>\n",
       "    <tr>\n",
       "      <th>BALI</th>\n",
       "      <td>23.46</td>\n",
       "      <td>3.59</td>\n",
       "      <td>27.89</td>\n",
       "    </tr>\n",
       "    <tr>\n",
       "      <th>NUSA TENGGARA BARAT</th>\n",
       "      <td>-1.23</td>\n",
       "      <td>11.67</td>\n",
       "      <td>10.31</td>\n",
       "    </tr>\n",
       "    <tr>\n",
       "      <th>NUSA TENGGARA TIMUR</th>\n",
       "      <td>0.77</td>\n",
       "      <td>3.48</td>\n",
       "      <td>4.28</td>\n",
       "    </tr>\n",
       "    <tr>\n",
       "      <th>KALIMANTAN BARAT</th>\n",
       "      <td>-5.88</td>\n",
       "      <td>-0.16</td>\n",
       "      <td>-6.03</td>\n",
       "    </tr>\n",
       "    <tr>\n",
       "      <th>KALIMANTAN TENGAH</th>\n",
       "      <td>-24.46</td>\n",
       "      <td>-0.56</td>\n",
       "      <td>-24.90</td>\n",
       "    </tr>\n",
       "    <tr>\n",
       "      <th>KALIMANTAN SELATAN</th>\n",
       "      <td>-25.85</td>\n",
       "      <td>-3.93</td>\n",
       "      <td>-28.77</td>\n",
       "    </tr>\n",
       "    <tr>\n",
       "      <th>KALIMANTAN TIMUR</th>\n",
       "      <td>-11.69</td>\n",
       "      <td>3.31</td>\n",
       "      <td>-8.77</td>\n",
       "    </tr>\n",
       "    <tr>\n",
       "      <th>KALIMANTAN UTARA</th>\n",
       "      <td>-12.94</td>\n",
       "      <td>4.47</td>\n",
       "      <td>-9.06</td>\n",
       "    </tr>\n",
       "    <tr>\n",
       "      <th>SULAWESI UTARA</th>\n",
       "      <td>-5.87</td>\n",
       "      <td>4.05</td>\n",
       "      <td>-2.07</td>\n",
       "    </tr>\n",
       "    <tr>\n",
       "      <th>SULAWESI TENGAH</th>\n",
       "      <td>-5.10</td>\n",
       "      <td>-0.99</td>\n",
       "      <td>-6.04</td>\n",
       "    </tr>\n",
       "    <tr>\n",
       "      <th>SULAWESI SELATAN</th>\n",
       "      <td>6.33</td>\n",
       "      <td>7.07</td>\n",
       "      <td>13.84</td>\n",
       "    </tr>\n",
       "    <tr>\n",
       "      <th>SULAWESI TENGGARA</th>\n",
       "      <td>-11.55</td>\n",
       "      <td>1.63</td>\n",
       "      <td>-10.10</td>\n",
       "    </tr>\n",
       "    <tr>\n",
       "      <th>GORONTALO</th>\n",
       "      <td>-3.83</td>\n",
       "      <td>9.71</td>\n",
       "      <td>5.49</td>\n",
       "    </tr>\n",
       "    <tr>\n",
       "      <th>SULAWESI BARAT</th>\n",
       "      <td>6.94</td>\n",
       "      <td>-4.21</td>\n",
       "      <td>2.45</td>\n",
       "    </tr>\n",
       "    <tr>\n",
       "      <th>MALUKU</th>\n",
       "      <td>-16.33</td>\n",
       "      <td>0.18</td>\n",
       "      <td>-16.16</td>\n",
       "    </tr>\n",
       "    <tr>\n",
       "      <th>MALUKU UTARA</th>\n",
       "      <td>-37.72</td>\n",
       "      <td>-9.38</td>\n",
       "      <td>-43.56</td>\n",
       "    </tr>\n",
       "    <tr>\n",
       "      <th>PAPUA BARAT</th>\n",
       "      <td>-27.87</td>\n",
       "      <td>36.30</td>\n",
       "      <td>-1.70</td>\n",
       "    </tr>\n",
       "    <tr>\n",
       "      <th>PAPUA</th>\n",
       "      <td>-5.66</td>\n",
       "      <td>23.86</td>\n",
       "      <td>16.83</td>\n",
       "    </tr>\n",
       "  </tbody>\n",
       "</table>\n",
       "</div>"
      ],
      "text/plain": [
       "                      yield_diff  productivity_diff  production_diff\n",
       "ACEH                      -14.51               0.49           -14.10\n",
       "SUMATERA UTARA              5.89              -3.33             2.36\n",
       "SUMATERA BARAT             -8.04               7.67            -0.99\n",
       "RIAU                      -21.13              11.13           -12.36\n",
       "JAMBI                     -28.59               0.66           -28.12\n",
       "SUMATERA SELATAN           -6.88               8.66             1.17\n",
       "BENGKULU                  -10.89               7.91            -3.83\n",
       "LAMPUNG                    -4.93               6.68             1.43\n",
       "KEP. BANGKA BELITUNG      -15.32              26.55             7.15\n",
       "KEP. RIAU                 -39.88              -1.12           -40.54\n",
       "DKI JAKARTA               -47.81              -1.43           -48.55\n",
       "JAWA BARAT                  4.76              -0.12             4.62\n",
       "JAWA TENGAH                 1.30              -2.67            -1.40\n",
       "DI YOGYAKARTA               0.34               6.95             7.32\n",
       "JAWA TIMUR                 -3.49              -0.74            -4.20\n",
       "BANTEN                      3.66               4.25             8.06\n",
       "BALI                       23.46               3.59            27.89\n",
       "NUSA TENGGARA BARAT        -1.23              11.67            10.31\n",
       "NUSA TENGGARA TIMUR         0.77               3.48             4.28\n",
       "KALIMANTAN BARAT           -5.88              -0.16            -6.03\n",
       "KALIMANTAN TENGAH         -24.46              -0.56           -24.90\n",
       "KALIMANTAN SELATAN        -25.85              -3.93           -28.77\n",
       "KALIMANTAN TIMUR          -11.69               3.31            -8.77\n",
       "KALIMANTAN UTARA          -12.94               4.47            -9.06\n",
       "SULAWESI UTARA             -5.87               4.05            -2.07\n",
       "SULAWESI TENGAH            -5.10              -0.99            -6.04\n",
       "SULAWESI SELATAN            6.33               7.07            13.84\n",
       "SULAWESI TENGGARA         -11.55               1.63           -10.10\n",
       "GORONTALO                  -3.83               9.71             5.49\n",
       "SULAWESI BARAT              6.94              -4.21             2.45\n",
       "MALUKU                    -16.33               0.18           -16.16\n",
       "MALUKU UTARA              -37.72              -9.38           -43.56\n",
       "PAPUA BARAT               -27.87              36.30            -1.70\n",
       "PAPUA                      -5.66              23.86            16.83"
      ]
     },
     "execution_count": 347,
     "metadata": {},
     "output_type": "execute_result"
    }
   ],
   "source": [
    "df_diff"
   ]
  },
  {
   "cell_type": "code",
   "execution_count": 348,
   "metadata": {},
   "outputs": [
    {
     "data": {
      "text/plain": [
       "Yield.Areal(ha)       -1.957419\n",
       "Productivity(kw/ha)    3.954657\n",
       "Production.(ton)       0.182238\n",
       "dtype: float64"
      ]
     },
     "execution_count": 348,
     "metadata": {},
     "output_type": "execute_result"
    }
   ],
   "source": [
    "num = df[df['Year']==2022].drop([\"Provinsi\",\"Year\"], axis=1).sum()\n",
    "denom = df[df['Year']==2020].drop([\"Provinsi\",\"Year\"], axis=1).sum()\n",
    "100*(num - denom)/num"
   ]
  },
  {
   "cell_type": "code",
   "execution_count": null,
   "metadata": {},
   "outputs": [],
   "source": [
    "df.sort_values(by=)"
   ]
  }
 ],
 "metadata": {
  "kernelspec": {
   "display_name": "Python 3",
   "language": "python",
   "name": "python3"
  },
  "language_info": {
   "codemirror_mode": {
    "name": "ipython",
    "version": 3
   },
   "file_extension": ".py",
   "mimetype": "text/x-python",
   "name": "python",
   "nbconvert_exporter": "python",
   "pygments_lexer": "ipython3",
   "version": "3.7.4"
  }
 },
 "nbformat": 4,
 "nbformat_minor": 2
}
